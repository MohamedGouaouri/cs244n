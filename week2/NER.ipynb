{
  "nbformat": 4,
  "nbformat_minor": 0,
  "metadata": {
    "colab": {
      "provenance": [],
      "collapsed_sections": []
    },
    "kernelspec": {
      "name": "python3",
      "display_name": "Python 3"
    },
    "language_info": {
      "name": "python"
    },
    "accelerator": "GPU",
    "gpuClass": "standard"
  },
  "cells": [
    {
      "cell_type": "code",
      "execution_count": null,
      "metadata": {
        "id": "A62rksv6QxKP"
      },
      "outputs": [],
      "source": [
        "!pip install -q kaggle"
      ]
    },
    {
      "cell_type": "code",
      "source": [
        "!mkdir ~/.kaggle "
      ],
      "metadata": {
        "id": "xv10MhOOe_qY"
      },
      "execution_count": null,
      "outputs": []
    },
    {
      "cell_type": "code",
      "source": [
        "!cp kaggle.json ~/.kaggle/\n",
        "!chmod 600 ~/.kaggle/kaggle.json"
      ],
      "metadata": {
        "id": "aYhs0Cy7fBkP"
      },
      "execution_count": null,
      "outputs": []
    },
    {
      "cell_type": "code",
      "source": [
        "!unzip ner.zip"
      ],
      "metadata": {
        "colab": {
          "base_uri": "https://localhost:8080/"
        },
        "id": "nbHv_-M-fESQ",
        "outputId": "8e660783-daf5-42cf-fab3-90067972ff82"
      },
      "execution_count": 5,
      "outputs": [
        {
          "output_type": "stream",
          "name": "stdout",
          "text": [
            "Archive:  ner.zip\n",
            "  inflating: ner.csv                 \n",
            "  inflating: ner_dataset.csv         \n"
          ]
        }
      ]
    },
    {
      "cell_type": "code",
      "source": [
        "!pip install tensorflow==1.15"
      ],
      "metadata": {
        "colab": {
          "base_uri": "https://localhost:8080/"
        },
        "id": "NzKgCtpDOgZ9",
        "outputId": "2af5e4ae-8ccf-4108-8626-14db0a3e4db1"
      },
      "execution_count": 1,
      "outputs": [
        {
          "output_type": "stream",
          "name": "stdout",
          "text": [
            "Looking in indexes: https://pypi.org/simple, https://us-python.pkg.dev/colab-wheels/public/simple/\n",
            "Collecting tensorflow==1.15\n",
            "  Downloading tensorflow-1.15.0-cp37-cp37m-manylinux2010_x86_64.whl (412.3 MB)\n",
            "\u001b[K     |████████████████████████████████| 412.3 MB 26 kB/s \n",
            "\u001b[?25hRequirement already satisfied: termcolor>=1.1.0 in /usr/local/lib/python3.7/dist-packages (from tensorflow==1.15) (1.1.0)\n",
            "Requirement already satisfied: wrapt>=1.11.1 in /usr/local/lib/python3.7/dist-packages (from tensorflow==1.15) (1.14.1)\n",
            "Requirement already satisfied: grpcio>=1.8.6 in /usr/local/lib/python3.7/dist-packages (from tensorflow==1.15) (1.47.0)\n",
            "Requirement already satisfied: wheel>=0.26 in /usr/local/lib/python3.7/dist-packages (from tensorflow==1.15) (0.37.1)\n",
            "Requirement already satisfied: absl-py>=0.7.0 in /usr/local/lib/python3.7/dist-packages (from tensorflow==1.15) (1.2.0)\n",
            "Requirement already satisfied: keras-preprocessing>=1.0.5 in /usr/local/lib/python3.7/dist-packages (from tensorflow==1.15) (1.1.2)\n",
            "Requirement already satisfied: opt-einsum>=2.3.2 in /usr/local/lib/python3.7/dist-packages (from tensorflow==1.15) (3.3.0)\n",
            "Requirement already satisfied: astor>=0.6.0 in /usr/local/lib/python3.7/dist-packages (from tensorflow==1.15) (0.8.1)\n",
            "Requirement already satisfied: google-pasta>=0.1.6 in /usr/local/lib/python3.7/dist-packages (from tensorflow==1.15) (0.2.0)\n",
            "Collecting tensorboard<1.16.0,>=1.15.0\n",
            "  Downloading tensorboard-1.15.0-py3-none-any.whl (3.8 MB)\n",
            "\u001b[K     |████████████████████████████████| 3.8 MB 49.8 MB/s \n",
            "\u001b[?25hRequirement already satisfied: protobuf>=3.6.1 in /usr/local/lib/python3.7/dist-packages (from tensorflow==1.15) (3.17.3)\n",
            "Collecting tensorflow-estimator==1.15.1\n",
            "  Downloading tensorflow_estimator-1.15.1-py2.py3-none-any.whl (503 kB)\n",
            "\u001b[K     |████████████████████████████████| 503 kB 47.5 MB/s \n",
            "\u001b[?25hRequirement already satisfied: numpy<2.0,>=1.16.0 in /usr/local/lib/python3.7/dist-packages (from tensorflow==1.15) (1.21.6)\n",
            "Requirement already satisfied: six>=1.10.0 in /usr/local/lib/python3.7/dist-packages (from tensorflow==1.15) (1.15.0)\n",
            "Collecting keras-applications>=1.0.8\n",
            "  Downloading Keras_Applications-1.0.8-py3-none-any.whl (50 kB)\n",
            "\u001b[K     |████████████████████████████████| 50 kB 7.2 MB/s \n",
            "\u001b[?25hCollecting gast==0.2.2\n",
            "  Downloading gast-0.2.2.tar.gz (10 kB)\n",
            "Requirement already satisfied: h5py in /usr/local/lib/python3.7/dist-packages (from keras-applications>=1.0.8->tensorflow==1.15) (3.1.0)\n",
            "Requirement already satisfied: werkzeug>=0.11.15 in /usr/local/lib/python3.7/dist-packages (from tensorboard<1.16.0,>=1.15.0->tensorflow==1.15) (1.0.1)\n",
            "Requirement already satisfied: setuptools>=41.0.0 in /usr/local/lib/python3.7/dist-packages (from tensorboard<1.16.0,>=1.15.0->tensorflow==1.15) (57.4.0)\n",
            "Requirement already satisfied: markdown>=2.6.8 in /usr/local/lib/python3.7/dist-packages (from tensorboard<1.16.0,>=1.15.0->tensorflow==1.15) (3.4.1)\n",
            "Requirement already satisfied: importlib-metadata>=4.4 in /usr/local/lib/python3.7/dist-packages (from markdown>=2.6.8->tensorboard<1.16.0,>=1.15.0->tensorflow==1.15) (4.12.0)\n",
            "Requirement already satisfied: zipp>=0.5 in /usr/local/lib/python3.7/dist-packages (from importlib-metadata>=4.4->markdown>=2.6.8->tensorboard<1.16.0,>=1.15.0->tensorflow==1.15) (3.8.1)\n",
            "Requirement already satisfied: typing-extensions>=3.6.4 in /usr/local/lib/python3.7/dist-packages (from importlib-metadata>=4.4->markdown>=2.6.8->tensorboard<1.16.0,>=1.15.0->tensorflow==1.15) (4.1.1)\n",
            "Requirement already satisfied: cached-property in /usr/local/lib/python3.7/dist-packages (from h5py->keras-applications>=1.0.8->tensorflow==1.15) (1.5.2)\n",
            "Building wheels for collected packages: gast\n",
            "  Building wheel for gast (setup.py) ... \u001b[?25l\u001b[?25hdone\n",
            "  Created wheel for gast: filename=gast-0.2.2-py3-none-any.whl size=7554 sha256=8f0b5e1f6a40b0a852ef1796f85340f5679239d62a234418acb9ebea7af97262\n",
            "  Stored in directory: /root/.cache/pip/wheels/21/7f/02/420f32a803f7d0967b48dd823da3f558c5166991bfd204eef3\n",
            "Successfully built gast\n",
            "Installing collected packages: tensorflow-estimator, tensorboard, keras-applications, gast, tensorflow\n",
            "  Attempting uninstall: tensorflow-estimator\n",
            "    Found existing installation: tensorflow-estimator 2.8.0\n",
            "    Uninstalling tensorflow-estimator-2.8.0:\n",
            "      Successfully uninstalled tensorflow-estimator-2.8.0\n",
            "  Attempting uninstall: tensorboard\n",
            "    Found existing installation: tensorboard 2.8.0\n",
            "    Uninstalling tensorboard-2.8.0:\n",
            "      Successfully uninstalled tensorboard-2.8.0\n",
            "  Attempting uninstall: gast\n",
            "    Found existing installation: gast 0.5.3\n",
            "    Uninstalling gast-0.5.3:\n",
            "      Successfully uninstalled gast-0.5.3\n",
            "  Attempting uninstall: tensorflow\n",
            "    Found existing installation: tensorflow 2.8.2+zzzcolab20220719082949\n",
            "    Uninstalling tensorflow-2.8.2+zzzcolab20220719082949:\n",
            "      Successfully uninstalled tensorflow-2.8.2+zzzcolab20220719082949\n",
            "\u001b[31mERROR: pip's dependency resolver does not currently take into account all the packages that are installed. This behaviour is the source of the following dependency conflicts.\n",
            "tensorflow-probability 0.16.0 requires gast>=0.3.2, but you have gast 0.2.2 which is incompatible.\n",
            "kapre 0.3.7 requires tensorflow>=2.0.0, but you have tensorflow 1.15.0 which is incompatible.\u001b[0m\n",
            "Successfully installed gast-0.2.2 keras-applications-1.0.8 tensorboard-1.15.0 tensorflow-1.15.0 tensorflow-estimator-1.15.1\n"
          ]
        }
      ]
    },
    {
      "cell_type": "code",
      "source": [
        "!pip install numpy==1.19.5"
      ],
      "metadata": {
        "colab": {
          "base_uri": "https://localhost:8080/"
        },
        "id": "4n2kA7o5Q9IG",
        "outputId": "abc4c54e-e0f0-4fbf-8bf5-fa9dd67a6935"
      },
      "execution_count": 1,
      "outputs": [
        {
          "output_type": "stream",
          "name": "stdout",
          "text": [
            "Looking in indexes: https://pypi.org/simple, https://us-python.pkg.dev/colab-wheels/public/simple/\n",
            "Requirement already satisfied: numpy==1.19.5 in /usr/local/lib/python3.7/dist-packages (1.19.5)\n"
          ]
        }
      ]
    },
    {
      "cell_type": "code",
      "source": [
        "import pandas as pd\n",
        "import numpy as np\n",
        "import matplotlib.pyplot as plt\n",
        "import tensorflow as tf\n",
        "import datetime\n",
        "from sklearn.model_selection import train_test_split\n",
        "plt.style.use(\"ggplot\")"
      ],
      "metadata": {
        "id": "RLleTHRJgHva"
      },
      "execution_count": 1,
      "outputs": []
    },
    {
      "cell_type": "code",
      "source": [
        "print(f\"TF version {tf.__version__}\")\n",
        "print(f\"Numpy version {np.__version__}\")"
      ],
      "metadata": {
        "colab": {
          "base_uri": "https://localhost:8080/"
        },
        "id": "U_Q6bsUKQQbU",
        "outputId": "9d57dc04-db3f-494d-b89e-e2762a9543d1"
      },
      "execution_count": 2,
      "outputs": [
        {
          "output_type": "stream",
          "name": "stdout",
          "text": [
            "TF version 1.15.0\n",
            "Numpy version 1.19.5\n"
          ]
        }
      ]
    },
    {
      "cell_type": "code",
      "source": [
        "data = pd.read_csv('ner_dataset.csv', encoding=\"latin1\")\n",
        "data"
      ],
      "metadata": {
        "colab": {
          "base_uri": "https://localhost:8080/",
          "height": 424
        },
        "id": "7idEv9jLgiEv",
        "outputId": "a85c0066-1b06-43b6-fc5e-d30c85de651e"
      },
      "execution_count": 3,
      "outputs": [
        {
          "output_type": "execute_result",
          "data": {
            "text/plain": [
              "          Sentence #           Word  POS Tag\n",
              "0        Sentence: 1      Thousands  NNS   O\n",
              "1                NaN             of   IN   O\n",
              "2                NaN  demonstrators  NNS   O\n",
              "3                NaN           have  VBP   O\n",
              "4                NaN        marched  VBN   O\n",
              "...              ...            ...  ...  ..\n",
              "1048570          NaN           they  PRP   O\n",
              "1048571          NaN      responded  VBD   O\n",
              "1048572          NaN             to   TO   O\n",
              "1048573          NaN            the   DT   O\n",
              "1048574          NaN         attack   NN   O\n",
              "\n",
              "[1048575 rows x 4 columns]"
            ],
            "text/html": [
              "\n",
              "  <div id=\"df-187caf5f-847a-4b5b-87b3-86e0c97dbd33\">\n",
              "    <div class=\"colab-df-container\">\n",
              "      <div>\n",
              "<style scoped>\n",
              "    .dataframe tbody tr th:only-of-type {\n",
              "        vertical-align: middle;\n",
              "    }\n",
              "\n",
              "    .dataframe tbody tr th {\n",
              "        vertical-align: top;\n",
              "    }\n",
              "\n",
              "    .dataframe thead th {\n",
              "        text-align: right;\n",
              "    }\n",
              "</style>\n",
              "<table border=\"1\" class=\"dataframe\">\n",
              "  <thead>\n",
              "    <tr style=\"text-align: right;\">\n",
              "      <th></th>\n",
              "      <th>Sentence #</th>\n",
              "      <th>Word</th>\n",
              "      <th>POS</th>\n",
              "      <th>Tag</th>\n",
              "    </tr>\n",
              "  </thead>\n",
              "  <tbody>\n",
              "    <tr>\n",
              "      <th>0</th>\n",
              "      <td>Sentence: 1</td>\n",
              "      <td>Thousands</td>\n",
              "      <td>NNS</td>\n",
              "      <td>O</td>\n",
              "    </tr>\n",
              "    <tr>\n",
              "      <th>1</th>\n",
              "      <td>NaN</td>\n",
              "      <td>of</td>\n",
              "      <td>IN</td>\n",
              "      <td>O</td>\n",
              "    </tr>\n",
              "    <tr>\n",
              "      <th>2</th>\n",
              "      <td>NaN</td>\n",
              "      <td>demonstrators</td>\n",
              "      <td>NNS</td>\n",
              "      <td>O</td>\n",
              "    </tr>\n",
              "    <tr>\n",
              "      <th>3</th>\n",
              "      <td>NaN</td>\n",
              "      <td>have</td>\n",
              "      <td>VBP</td>\n",
              "      <td>O</td>\n",
              "    </tr>\n",
              "    <tr>\n",
              "      <th>4</th>\n",
              "      <td>NaN</td>\n",
              "      <td>marched</td>\n",
              "      <td>VBN</td>\n",
              "      <td>O</td>\n",
              "    </tr>\n",
              "    <tr>\n",
              "      <th>...</th>\n",
              "      <td>...</td>\n",
              "      <td>...</td>\n",
              "      <td>...</td>\n",
              "      <td>...</td>\n",
              "    </tr>\n",
              "    <tr>\n",
              "      <th>1048570</th>\n",
              "      <td>NaN</td>\n",
              "      <td>they</td>\n",
              "      <td>PRP</td>\n",
              "      <td>O</td>\n",
              "    </tr>\n",
              "    <tr>\n",
              "      <th>1048571</th>\n",
              "      <td>NaN</td>\n",
              "      <td>responded</td>\n",
              "      <td>VBD</td>\n",
              "      <td>O</td>\n",
              "    </tr>\n",
              "    <tr>\n",
              "      <th>1048572</th>\n",
              "      <td>NaN</td>\n",
              "      <td>to</td>\n",
              "      <td>TO</td>\n",
              "      <td>O</td>\n",
              "    </tr>\n",
              "    <tr>\n",
              "      <th>1048573</th>\n",
              "      <td>NaN</td>\n",
              "      <td>the</td>\n",
              "      <td>DT</td>\n",
              "      <td>O</td>\n",
              "    </tr>\n",
              "    <tr>\n",
              "      <th>1048574</th>\n",
              "      <td>NaN</td>\n",
              "      <td>attack</td>\n",
              "      <td>NN</td>\n",
              "      <td>O</td>\n",
              "    </tr>\n",
              "  </tbody>\n",
              "</table>\n",
              "<p>1048575 rows × 4 columns</p>\n",
              "</div>\n",
              "      <button class=\"colab-df-convert\" onclick=\"convertToInteractive('df-187caf5f-847a-4b5b-87b3-86e0c97dbd33')\"\n",
              "              title=\"Convert this dataframe to an interactive table.\"\n",
              "              style=\"display:none;\">\n",
              "        \n",
              "  <svg xmlns=\"http://www.w3.org/2000/svg\" height=\"24px\"viewBox=\"0 0 24 24\"\n",
              "       width=\"24px\">\n",
              "    <path d=\"M0 0h24v24H0V0z\" fill=\"none\"/>\n",
              "    <path d=\"M18.56 5.44l.94 2.06.94-2.06 2.06-.94-2.06-.94-.94-2.06-.94 2.06-2.06.94zm-11 1L8.5 8.5l.94-2.06 2.06-.94-2.06-.94L8.5 2.5l-.94 2.06-2.06.94zm10 10l.94 2.06.94-2.06 2.06-.94-2.06-.94-.94-2.06-.94 2.06-2.06.94z\"/><path d=\"M17.41 7.96l-1.37-1.37c-.4-.4-.92-.59-1.43-.59-.52 0-1.04.2-1.43.59L10.3 9.45l-7.72 7.72c-.78.78-.78 2.05 0 2.83L4 21.41c.39.39.9.59 1.41.59.51 0 1.02-.2 1.41-.59l7.78-7.78 2.81-2.81c.8-.78.8-2.07 0-2.86zM5.41 20L4 18.59l7.72-7.72 1.47 1.35L5.41 20z\"/>\n",
              "  </svg>\n",
              "      </button>\n",
              "      \n",
              "  <style>\n",
              "    .colab-df-container {\n",
              "      display:flex;\n",
              "      flex-wrap:wrap;\n",
              "      gap: 12px;\n",
              "    }\n",
              "\n",
              "    .colab-df-convert {\n",
              "      background-color: #E8F0FE;\n",
              "      border: none;\n",
              "      border-radius: 50%;\n",
              "      cursor: pointer;\n",
              "      display: none;\n",
              "      fill: #1967D2;\n",
              "      height: 32px;\n",
              "      padding: 0 0 0 0;\n",
              "      width: 32px;\n",
              "    }\n",
              "\n",
              "    .colab-df-convert:hover {\n",
              "      background-color: #E2EBFA;\n",
              "      box-shadow: 0px 1px 2px rgba(60, 64, 67, 0.3), 0px 1px 3px 1px rgba(60, 64, 67, 0.15);\n",
              "      fill: #174EA6;\n",
              "    }\n",
              "\n",
              "    [theme=dark] .colab-df-convert {\n",
              "      background-color: #3B4455;\n",
              "      fill: #D2E3FC;\n",
              "    }\n",
              "\n",
              "    [theme=dark] .colab-df-convert:hover {\n",
              "      background-color: #434B5C;\n",
              "      box-shadow: 0px 1px 3px 1px rgba(0, 0, 0, 0.15);\n",
              "      filter: drop-shadow(0px 1px 2px rgba(0, 0, 0, 0.3));\n",
              "      fill: #FFFFFF;\n",
              "    }\n",
              "  </style>\n",
              "\n",
              "      <script>\n",
              "        const buttonEl =\n",
              "          document.querySelector('#df-187caf5f-847a-4b5b-87b3-86e0c97dbd33 button.colab-df-convert');\n",
              "        buttonEl.style.display =\n",
              "          google.colab.kernel.accessAllowed ? 'block' : 'none';\n",
              "\n",
              "        async function convertToInteractive(key) {\n",
              "          const element = document.querySelector('#df-187caf5f-847a-4b5b-87b3-86e0c97dbd33');\n",
              "          const dataTable =\n",
              "            await google.colab.kernel.invokeFunction('convertToInteractive',\n",
              "                                                     [key], {});\n",
              "          if (!dataTable) return;\n",
              "\n",
              "          const docLinkHtml = 'Like what you see? Visit the ' +\n",
              "            '<a target=\"_blank\" href=https://colab.research.google.com/notebooks/data_table.ipynb>data table notebook</a>'\n",
              "            + ' to learn more about interactive tables.';\n",
              "          element.innerHTML = '';\n",
              "          dataTable['output_type'] = 'display_data';\n",
              "          await google.colab.output.renderOutput(dataTable, element);\n",
              "          const docLink = document.createElement('div');\n",
              "          docLink.innerHTML = docLinkHtml;\n",
              "          element.appendChild(docLink);\n",
              "        }\n",
              "      </script>\n",
              "    </div>\n",
              "  </div>\n",
              "  "
            ]
          },
          "metadata": {},
          "execution_count": 3
        }
      ]
    },
    {
      "cell_type": "code",
      "source": [
        "data = data.drop(['POS'], axis =1)\n",
        "data = data.fillna(method=\"ffill\")"
      ],
      "metadata": {
        "id": "yt-hyu7vguLl"
      },
      "execution_count": 4,
      "outputs": []
    },
    {
      "cell_type": "code",
      "source": [
        "data"
      ],
      "metadata": {
        "colab": {
          "base_uri": "https://localhost:8080/",
          "height": 424
        },
        "id": "cXZBpIldhMJo",
        "outputId": "e7e65a40-6759-4f35-fd47-da2cc941a725"
      },
      "execution_count": 8,
      "outputs": [
        {
          "output_type": "execute_result",
          "data": {
            "text/plain": [
              "              Sentence #           Word Tag\n",
              "0            Sentence: 1      Thousands   O\n",
              "1            Sentence: 1             of   O\n",
              "2            Sentence: 1  demonstrators   O\n",
              "3            Sentence: 1           have   O\n",
              "4            Sentence: 1        marched   O\n",
              "...                  ...            ...  ..\n",
              "1048570  Sentence: 47959           they   O\n",
              "1048571  Sentence: 47959      responded   O\n",
              "1048572  Sentence: 47959             to   O\n",
              "1048573  Sentence: 47959            the   O\n",
              "1048574  Sentence: 47959         attack   O\n",
              "\n",
              "[1048575 rows x 3 columns]"
            ],
            "text/html": [
              "\n",
              "  <div id=\"df-535dd7f7-0cd0-4463-8e32-b44ec43f55e0\">\n",
              "    <div class=\"colab-df-container\">\n",
              "      <div>\n",
              "<style scoped>\n",
              "    .dataframe tbody tr th:only-of-type {\n",
              "        vertical-align: middle;\n",
              "    }\n",
              "\n",
              "    .dataframe tbody tr th {\n",
              "        vertical-align: top;\n",
              "    }\n",
              "\n",
              "    .dataframe thead th {\n",
              "        text-align: right;\n",
              "    }\n",
              "</style>\n",
              "<table border=\"1\" class=\"dataframe\">\n",
              "  <thead>\n",
              "    <tr style=\"text-align: right;\">\n",
              "      <th></th>\n",
              "      <th>Sentence #</th>\n",
              "      <th>Word</th>\n",
              "      <th>Tag</th>\n",
              "    </tr>\n",
              "  </thead>\n",
              "  <tbody>\n",
              "    <tr>\n",
              "      <th>0</th>\n",
              "      <td>Sentence: 1</td>\n",
              "      <td>Thousands</td>\n",
              "      <td>O</td>\n",
              "    </tr>\n",
              "    <tr>\n",
              "      <th>1</th>\n",
              "      <td>Sentence: 1</td>\n",
              "      <td>of</td>\n",
              "      <td>O</td>\n",
              "    </tr>\n",
              "    <tr>\n",
              "      <th>2</th>\n",
              "      <td>Sentence: 1</td>\n",
              "      <td>demonstrators</td>\n",
              "      <td>O</td>\n",
              "    </tr>\n",
              "    <tr>\n",
              "      <th>3</th>\n",
              "      <td>Sentence: 1</td>\n",
              "      <td>have</td>\n",
              "      <td>O</td>\n",
              "    </tr>\n",
              "    <tr>\n",
              "      <th>4</th>\n",
              "      <td>Sentence: 1</td>\n",
              "      <td>marched</td>\n",
              "      <td>O</td>\n",
              "    </tr>\n",
              "    <tr>\n",
              "      <th>...</th>\n",
              "      <td>...</td>\n",
              "      <td>...</td>\n",
              "      <td>...</td>\n",
              "    </tr>\n",
              "    <tr>\n",
              "      <th>1048570</th>\n",
              "      <td>Sentence: 47959</td>\n",
              "      <td>they</td>\n",
              "      <td>O</td>\n",
              "    </tr>\n",
              "    <tr>\n",
              "      <th>1048571</th>\n",
              "      <td>Sentence: 47959</td>\n",
              "      <td>responded</td>\n",
              "      <td>O</td>\n",
              "    </tr>\n",
              "    <tr>\n",
              "      <th>1048572</th>\n",
              "      <td>Sentence: 47959</td>\n",
              "      <td>to</td>\n",
              "      <td>O</td>\n",
              "    </tr>\n",
              "    <tr>\n",
              "      <th>1048573</th>\n",
              "      <td>Sentence: 47959</td>\n",
              "      <td>the</td>\n",
              "      <td>O</td>\n",
              "    </tr>\n",
              "    <tr>\n",
              "      <th>1048574</th>\n",
              "      <td>Sentence: 47959</td>\n",
              "      <td>attack</td>\n",
              "      <td>O</td>\n",
              "    </tr>\n",
              "  </tbody>\n",
              "</table>\n",
              "<p>1048575 rows × 3 columns</p>\n",
              "</div>\n",
              "      <button class=\"colab-df-convert\" onclick=\"convertToInteractive('df-535dd7f7-0cd0-4463-8e32-b44ec43f55e0')\"\n",
              "              title=\"Convert this dataframe to an interactive table.\"\n",
              "              style=\"display:none;\">\n",
              "        \n",
              "  <svg xmlns=\"http://www.w3.org/2000/svg\" height=\"24px\"viewBox=\"0 0 24 24\"\n",
              "       width=\"24px\">\n",
              "    <path d=\"M0 0h24v24H0V0z\" fill=\"none\"/>\n",
              "    <path d=\"M18.56 5.44l.94 2.06.94-2.06 2.06-.94-2.06-.94-.94-2.06-.94 2.06-2.06.94zm-11 1L8.5 8.5l.94-2.06 2.06-.94-2.06-.94L8.5 2.5l-.94 2.06-2.06.94zm10 10l.94 2.06.94-2.06 2.06-.94-2.06-.94-.94-2.06-.94 2.06-2.06.94z\"/><path d=\"M17.41 7.96l-1.37-1.37c-.4-.4-.92-.59-1.43-.59-.52 0-1.04.2-1.43.59L10.3 9.45l-7.72 7.72c-.78.78-.78 2.05 0 2.83L4 21.41c.39.39.9.59 1.41.59.51 0 1.02-.2 1.41-.59l7.78-7.78 2.81-2.81c.8-.78.8-2.07 0-2.86zM5.41 20L4 18.59l7.72-7.72 1.47 1.35L5.41 20z\"/>\n",
              "  </svg>\n",
              "      </button>\n",
              "      \n",
              "  <style>\n",
              "    .colab-df-container {\n",
              "      display:flex;\n",
              "      flex-wrap:wrap;\n",
              "      gap: 12px;\n",
              "    }\n",
              "\n",
              "    .colab-df-convert {\n",
              "      background-color: #E8F0FE;\n",
              "      border: none;\n",
              "      border-radius: 50%;\n",
              "      cursor: pointer;\n",
              "      display: none;\n",
              "      fill: #1967D2;\n",
              "      height: 32px;\n",
              "      padding: 0 0 0 0;\n",
              "      width: 32px;\n",
              "    }\n",
              "\n",
              "    .colab-df-convert:hover {\n",
              "      background-color: #E2EBFA;\n",
              "      box-shadow: 0px 1px 2px rgba(60, 64, 67, 0.3), 0px 1px 3px 1px rgba(60, 64, 67, 0.15);\n",
              "      fill: #174EA6;\n",
              "    }\n",
              "\n",
              "    [theme=dark] .colab-df-convert {\n",
              "      background-color: #3B4455;\n",
              "      fill: #D2E3FC;\n",
              "    }\n",
              "\n",
              "    [theme=dark] .colab-df-convert:hover {\n",
              "      background-color: #434B5C;\n",
              "      box-shadow: 0px 1px 3px 1px rgba(0, 0, 0, 0.15);\n",
              "      filter: drop-shadow(0px 1px 2px rgba(0, 0, 0, 0.3));\n",
              "      fill: #FFFFFF;\n",
              "    }\n",
              "  </style>\n",
              "\n",
              "      <script>\n",
              "        const buttonEl =\n",
              "          document.querySelector('#df-535dd7f7-0cd0-4463-8e32-b44ec43f55e0 button.colab-df-convert');\n",
              "        buttonEl.style.display =\n",
              "          google.colab.kernel.accessAllowed ? 'block' : 'none';\n",
              "\n",
              "        async function convertToInteractive(key) {\n",
              "          const element = document.querySelector('#df-535dd7f7-0cd0-4463-8e32-b44ec43f55e0');\n",
              "          const dataTable =\n",
              "            await google.colab.kernel.invokeFunction('convertToInteractive',\n",
              "                                                     [key], {});\n",
              "          if (!dataTable) return;\n",
              "\n",
              "          const docLinkHtml = 'Like what you see? Visit the ' +\n",
              "            '<a target=\"_blank\" href=https://colab.research.google.com/notebooks/data_table.ipynb>data table notebook</a>'\n",
              "            + ' to learn more about interactive tables.';\n",
              "          element.innerHTML = '';\n",
              "          dataTable['output_type'] = 'display_data';\n",
              "          await google.colab.output.renderOutput(dataTable, element);\n",
              "          const docLink = document.createElement('div');\n",
              "          docLink.innerHTML = docLinkHtml;\n",
              "          element.appendChild(docLink);\n",
              "        }\n",
              "      </script>\n",
              "    </div>\n",
              "  </div>\n",
              "  "
            ]
          },
          "metadata": {},
          "execution_count": 8
        }
      ]
    },
    {
      "cell_type": "code",
      "source": [
        "words = set(list(data[\"Word\"]))"
      ],
      "metadata": {
        "id": "L9rZl7d3hMz5"
      },
      "execution_count": 5,
      "outputs": []
    },
    {
      "cell_type": "code",
      "source": [
        "words"
      ],
      "metadata": {
        "id": "7vrbn5QthZTI"
      },
      "execution_count": null,
      "outputs": []
    },
    {
      "cell_type": "code",
      "source": [
        "words.add('PADword')\n",
        "n_words = len(words)\n",
        "n_words"
      ],
      "metadata": {
        "colab": {
          "base_uri": "https://localhost:8080/"
        },
        "id": "URA7K6eehjq-",
        "outputId": "5ca463e6-7352-492c-dceb-7dde53f66f3e"
      },
      "execution_count": 6,
      "outputs": [
        {
          "output_type": "execute_result",
          "data": {
            "text/plain": [
              "35179"
            ]
          },
          "metadata": {},
          "execution_count": 6
        }
      ]
    },
    {
      "cell_type": "code",
      "source": [
        "tags = set(list(data[\"Tag\"].values))\n",
        "n_tags = len(tags)"
      ],
      "metadata": {
        "id": "JasLJdkshn37"
      },
      "execution_count": 7,
      "outputs": []
    },
    {
      "cell_type": "code",
      "source": [
        "n_tags"
      ],
      "metadata": {
        "colab": {
          "base_uri": "https://localhost:8080/"
        },
        "id": "yoQF4mk0hvek",
        "outputId": "721b9382-c8da-4436-a6ae-871349d67b8b"
      },
      "execution_count": 8,
      "outputs": [
        {
          "output_type": "execute_result",
          "data": {
            "text/plain": [
              "17"
            ]
          },
          "metadata": {},
          "execution_count": 8
        }
      ]
    },
    {
      "cell_type": "code",
      "source": [
        "class SentenceGetter(object):\n",
        "    \n",
        "    def __init__(self, data):\n",
        "        self.n_sent = 1\n",
        "        self.data = data\n",
        "        self.empty = False\n",
        "        agg_func = lambda s: [(w, t) for w, t in zip(s[\"Word\"].values.tolist(),s[\"Tag\"].values.tolist())]\n",
        "        self.grouped = self.data.groupby(\"Sentence #\").apply(agg_func)\n",
        "        self.sentences = [s for s in self.grouped]\n",
        "    \n",
        "    def get_next(self):\n",
        "        try:\n",
        "            s = self.grouped[\"Sentence: {}\".format(self.n_sent)]\n",
        "            self.n_sent += 1\n",
        "            return s\n",
        "        except:\n",
        "            return None"
      ],
      "metadata": {
        "id": "3g0HyNIZhwNr"
      },
      "execution_count": 9,
      "outputs": []
    },
    {
      "cell_type": "code",
      "source": [
        "getter = SentenceGetter(data)"
      ],
      "metadata": {
        "id": "Z-UzyKQvh8nU"
      },
      "execution_count": 10,
      "outputs": []
    },
    {
      "cell_type": "code",
      "source": [
        "sent = getter.get_next()\n",
        "print(sent)"
      ],
      "metadata": {
        "colab": {
          "base_uri": "https://localhost:8080/"
        },
        "id": "DEGAljDiiBOA",
        "outputId": "efacfe71-ab68-4bd1-89a9-aae0a6f86b8f"
      },
      "execution_count": null,
      "outputs": [
        {
          "output_type": "stream",
          "name": "stdout",
          "text": [
            "[('Thousands', 'O'), ('of', 'O'), ('demonstrators', 'O'), ('have', 'O'), ('marched', 'O'), ('through', 'O'), ('London', 'B-geo'), ('to', 'O'), ('protest', 'O'), ('the', 'O'), ('war', 'O'), ('in', 'O'), ('Iraq', 'B-geo'), ('and', 'O'), ('demand', 'O'), ('the', 'O'), ('withdrawal', 'O'), ('of', 'O'), ('British', 'B-gpe'), ('troops', 'O'), ('from', 'O'), ('that', 'O'), ('country', 'O'), ('.', 'O')]\n"
          ]
        }
      ]
    },
    {
      "cell_type": "code",
      "source": [
        "sentences = getter.sentences\n",
        "print(len(sentences))\n",
        "largest_sen = max(len(sen) for sen in sentences)\n",
        "print('biggest sentence has {} words'.format(largest_sen))"
      ],
      "metadata": {
        "colab": {
          "base_uri": "https://localhost:8080/"
        },
        "id": "J3R6Am26isa0",
        "outputId": "d9be3005-ed72-43ac-8049-653071e8dd3d"
      },
      "execution_count": 11,
      "outputs": [
        {
          "output_type": "stream",
          "name": "stdout",
          "text": [
            "47959\n",
            "biggest sentence has 104 words\n"
          ]
        }
      ]
    },
    {
      "cell_type": "code",
      "source": [
        "# %matplotlib inline sets the backend of matplotlib to the 'inline' backend\n",
        "# plotted directly below the code cell that produced it. \n",
        "# The resulting plots will then also be stored in the notebook document.\n",
        "%matplotlib inline"
      ],
      "metadata": {
        "id": "sqV7j0pxiDnV"
      },
      "execution_count": 12,
      "outputs": []
    },
    {
      "cell_type": "code",
      "source": [
        "plt.hist([len(sen) for sen in sentences], bins=50)\n",
        "plt.show()"
      ],
      "metadata": {
        "colab": {
          "base_uri": "https://localhost:8080/",
          "height": 265
        },
        "id": "MXQ8h6bviVHr",
        "outputId": "3208d857-7841-4a6d-e246-72ee12877c53"
      },
      "execution_count": 13,
      "outputs": [
        {
          "output_type": "display_data",
          "data": {
            "text/plain": [
              "<Figure size 432x288 with 1 Axes>"
            ],
            "image/png": "[encoded data removed]"
          },
          "metadata": {
            "needs_background": "light"
          }
        }
      ]
    },
    {
      "cell_type": "code",
      "source": [
        "# write a function that adds a padding word\n",
        "max_len = 50\n",
        "X = [[w[0] for w in s] for s in sentences]"
      ],
      "metadata": {
        "id": "Q0RyXcKEi6gW"
      },
      "execution_count": 14,
      "outputs": []
    },
    {
      "cell_type": "code",
      "source": [
        "new_X = []\n",
        "for seq in X:\n",
        "    new_seq = []\n",
        "    for i in range(max_len):\n",
        "        try:\n",
        "            new_seq.append(seq[i])\n",
        "        except:\n",
        "            new_seq.append(\"PADword\")\n",
        "    new_X.append(new_seq)\n"
      ],
      "metadata": {
        "id": "L79l_fY6jq1t"
      },
      "execution_count": 15,
      "outputs": []
    },
    {
      "cell_type": "code",
      "source": [
        "new_X[3]"
      ],
      "metadata": {
        "id": "LF3Y0nThkZ4y",
        "colab": {
          "base_uri": "https://localhost:8080/"
        },
        "outputId": "86f27878-1c13-4aa0-c0b0-94642995e27a"
      },
      "execution_count": 16,
      "outputs": [
        {
          "output_type": "execute_result",
          "data": {
            "text/plain": [
              "['They',\n",
              " 'left',\n",
              " 'after',\n",
              " 'a',\n",
              " 'tense',\n",
              " 'hour-long',\n",
              " 'standoff',\n",
              " 'with',\n",
              " 'riot',\n",
              " 'police',\n",
              " '.',\n",
              " 'PADword',\n",
              " 'PADword',\n",
              " 'PADword',\n",
              " 'PADword',\n",
              " 'PADword',\n",
              " 'PADword',\n",
              " 'PADword',\n",
              " 'PADword',\n",
              " 'PADword',\n",
              " 'PADword',\n",
              " 'PADword',\n",
              " 'PADword',\n",
              " 'PADword',\n",
              " 'PADword',\n",
              " 'PADword',\n",
              " 'PADword',\n",
              " 'PADword',\n",
              " 'PADword',\n",
              " 'PADword',\n",
              " 'PADword',\n",
              " 'PADword',\n",
              " 'PADword',\n",
              " 'PADword',\n",
              " 'PADword',\n",
              " 'PADword',\n",
              " 'PADword',\n",
              " 'PADword',\n",
              " 'PADword',\n",
              " 'PADword',\n",
              " 'PADword',\n",
              " 'PADword',\n",
              " 'PADword',\n",
              " 'PADword',\n",
              " 'PADword',\n",
              " 'PADword',\n",
              " 'PADword',\n",
              " 'PADword',\n",
              " 'PADword',\n",
              " 'PADword']"
            ]
          },
          "metadata": {},
          "execution_count": 16
        }
      ]
    },
    {
      "cell_type": "code",
      "source": [
        "pad_sequences = tf.keras.preprocessing.sequence.pad_sequences\n",
        "tags2index = {t:i for i,t in enumerate(tags)}\n",
        "y = [[tags2index[w[1]] for w in s] for s in sentences]\n",
        "y = pad_sequences(maxlen=max_len, sequences=y, padding=\"post\", value=tags2index[\"O\"])\n",
        "y[15]"
      ],
      "metadata": {
        "colab": {
          "base_uri": "https://localhost:8080/"
        },
        "id": "joOMiMqykbgY",
        "outputId": "e835b3f0-a29c-4ac5-aa71-be658482d107"
      },
      "execution_count": 17,
      "outputs": [
        {
          "output_type": "execute_result",
          "data": {
            "text/plain": [
              "array([5, 8, 8, 2, 0, 0, 0, 8, 8, 8, 8, 8, 1, 8, 8, 8, 8, 8, 8, 8, 8, 8,\n",
              "       8, 8, 8, 8, 8, 8, 8, 8, 8, 8, 8, 8, 8, 8, 8, 8, 8, 8, 8, 8, 8, 8,\n",
              "       8, 8, 8, 8, 8, 8], dtype=int32)"
            ]
          },
          "metadata": {},
          "execution_count": 17
        }
      ]
    },
    {
      "cell_type": "code",
      "source": [
        "tags2index"
      ],
      "metadata": {
        "colab": {
          "base_uri": "https://localhost:8080/"
        },
        "id": "epjIm81ElA-h",
        "outputId": "c5c8724b-13fa-4515-dab4-bbc5833d3ff5"
      },
      "execution_count": 18,
      "outputs": [
        {
          "output_type": "execute_result",
          "data": {
            "text/plain": [
              "{'I-per': 0,\n",
              " 'B-tim': 1,\n",
              " 'B-per': 2,\n",
              " 'B-org': 3,\n",
              " 'B-geo': 4,\n",
              " 'B-gpe': 5,\n",
              " 'B-nat': 6,\n",
              " 'I-nat': 7,\n",
              " 'O': 8,\n",
              " 'I-geo': 9,\n",
              " 'I-gpe': 10,\n",
              " 'I-art': 11,\n",
              " 'B-eve': 12,\n",
              " 'I-org': 13,\n",
              " 'I-eve': 14,\n",
              " 'B-art': 15,\n",
              " 'I-tim': 16}"
            ]
          },
          "metadata": {},
          "execution_count": 18
        }
      ]
    },
    {
      "cell_type": "code",
      "source": [
        "import tensorflow_hub as hub"
      ],
      "metadata": {
        "id": "A_gr4TQklMcI"
      },
      "execution_count": 19,
      "outputs": []
    },
    {
      "cell_type": "code",
      "source": [
        "sess = tf.Session()\n",
        "tf.keras.backend.set_session(sess)\n",
        "elmo_model = hub.Module(\"https://tfhub.dev/google/elmo/2\", trainable=True)\n",
        "sess.run(tf.global_variables_initializer())\n",
        "sess.run(tf.tables_initializer())"
      ],
      "metadata": {
        "id": "gCKBvz0jl2Pk"
      },
      "execution_count": 20,
      "outputs": []
    },
    {
      "cell_type": "code",
      "source": [
        "batch_size = 32\n",
        "def ElmoEmbedding(x):\n",
        "    return elmo_model(\n",
        "        inputs={\n",
        "            \"tokens\": tf.squeeze(tf.cast(x,    tf.string)),\n",
        "            \"sequence_len\": tf.constant(batch_size*[max_len])\n",
        "        },\n",
        "        signature=\"tokens\",\n",
        "        as_dict=True)[\"elmo\"]"
      ],
      "metadata": {
        "id": "v6PgbPQxRaWU"
      },
      "execution_count": 21,
      "outputs": []
    },
    {
      "cell_type": "code",
      "source": [
        "Model = tf.keras.models.Model\n",
        "Input = tf.keras.layers.Input\n",
        "Add = tf.keras.layers.Add\n",
        "LSTM = tf.keras.layers.LSTM\n",
        "Embedding = tf.keras.layers.Embedding\n",
        "Dense = tf.keras.layers.Dense\n",
        "TimeDistributed = tf.keras.layers.TimeDistributed\n",
        "Dropout = tf.keras.layers.Dropout\n",
        "Bidirectional = tf.keras.layers.Bidirectional\n",
        "Lambda = tf.keras.layers.Lambda"
      ],
      "metadata": {
        "id": "ujAKI39MPrZi"
      },
      "execution_count": 22,
      "outputs": []
    },
    {
      "cell_type": "code",
      "source": [
        "input_text = Input(shape=(max_len, ), dtype=tf.string)\n",
        "embedding = Lambda(ElmoEmbedding, output_shape=(max_len, 1024))(input_text)\n",
        "x = Bidirectional(LSTM(512, dropout=0.2, recurrent_dropout=0.2, return_sequences=True))(embedding)\n",
        "x_rnn = Bidirectional(LSTM(512, dropout=0.2, recurrent_dropout=0.2, return_sequences=True))(x)"
      ],
      "metadata": {
        "id": "Y96Xi7UHP5vA",
        "colab": {
          "base_uri": "https://localhost:8080/"
        },
        "outputId": "1424c9a8-0fa8-49c7-830c-7166b699a1f1"
      },
      "execution_count": 23,
      "outputs": [
        {
          "output_type": "stream",
          "name": "stderr",
          "text": [
            "WARNING:tensorflow:From /usr/local/lib/python3.7/dist-packages/tensorflow_core/python/ops/init_ops.py:97: calling GlorotUniform.__init__ (from tensorflow.python.ops.init_ops) with dtype is deprecated and will be removed in a future version.\n",
            "Instructions for updating:\n",
            "Call initializer instance with the dtype argument instead of passing it to the constructor\n",
            "WARNING:tensorflow:From /usr/local/lib/python3.7/dist-packages/tensorflow_core/python/ops/init_ops.py:97: calling Orthogonal.__init__ (from tensorflow.python.ops.init_ops) with dtype is deprecated and will be removed in a future version.\n",
            "Instructions for updating:\n",
            "Call initializer instance with the dtype argument instead of passing it to the constructor\n",
            "WARNING:tensorflow:From /usr/local/lib/python3.7/dist-packages/tensorflow_core/python/ops/init_ops.py:97: calling Zeros.__init__ (from tensorflow.python.ops.init_ops) with dtype is deprecated and will be removed in a future version.\n",
            "Instructions for updating:\n",
            "Call initializer instance with the dtype argument instead of passing it to the constructor\n",
            "WARNING:tensorflow:From /usr/local/lib/python3.7/dist-packages/tensorflow_core/python/ops/resource_variable_ops.py:1630: calling BaseResourceVariable.__init__ (from tensorflow.python.ops.resource_variable_ops) with constraint is deprecated and will be removed in a future version.\n",
            "Instructions for updating:\n",
            "If using Keras pass *_constraint arguments to layers.\n"
          ]
        }
      ]
    },
    {
      "cell_type": "code",
      "source": [
        "x = Add()([x, x_rnn])\n",
        "out = TimeDistributed(Dense(n_tags, activation=\"softmax\"))(x)\n",
        "model = Model(inputs=input_text, outputs=out)"
      ],
      "metadata": {
        "id": "F2XGl74OYzN1"
      },
      "execution_count": 24,
      "outputs": []
    },
    {
      "cell_type": "code",
      "source": [
        "model.compile(\n",
        "    optimizer=\"adam\",\n",
        "    loss=\"sparse_categorical_crossentropy\",\n",
        "    metrics=[\"accuracy\"]\n",
        ")\n",
        "log_dir = \"logs/fit/\" + datetime.datetime.now().strftime(\"%Y%m%d-%H%M%S\")\n",
        "tensorboard_callback = tf.keras.callbacks.TensorBoard(log_dir=log_dir, histogram_freq=1)\n",
        "\n"
      ],
      "metadata": {
        "id": "ShjrMG02Y-Fd"
      },
      "execution_count": 25,
      "outputs": []
    },
    {
      "cell_type": "code",
      "source": [
        "X_tr, X_te, y_tr, y_te = train_test_split(new_X, y, test_size=0.1, random_state=2018)"
      ],
      "metadata": {
        "id": "z__8bWdjZMA9"
      },
      "execution_count": 26,
      "outputs": []
    },
    {
      "cell_type": "code",
      "source": [
        "X_tr, X_val = X_tr[:1213*batch_size], X_tr[-135*batch_size:]\n",
        "y_tr, y_val = y_tr[:1213*batch_size], y_tr[-135*batch_size:]\n",
        "y_tr = y_tr.reshape(y_tr.shape[0], y_tr.shape[1], 1)\n",
        "y_val = y_val.reshape(y_val.shape[0], y_val.shape[1], 1)"
      ],
      "metadata": {
        "id": "uZytiQDXZHO4"
      },
      "execution_count": 27,
      "outputs": []
    },
    {
      "cell_type": "code",
      "source": [
        "model.summary()"
      ],
      "metadata": {
        "colab": {
          "base_uri": "https://localhost:8080/"
        },
        "id": "2ir4iB9SRve1",
        "outputId": "b5898b49-0fab-4de5-90bf-6f3930c6f1b7"
      },
      "execution_count": 28,
      "outputs": [
        {
          "output_type": "stream",
          "name": "stdout",
          "text": [
            "Model: \"model\"\n",
            "__________________________________________________________________________________________________\n",
            "Layer (type)                    Output Shape         Param #     Connected to                     \n",
            "==================================================================================================\n",
            "input_1 (InputLayer)            [(None, 50)]         0                                            \n",
            "__________________________________________________________________________________________________\n",
            "lambda (Lambda)                 (32, None, 1024)     0           input_1[0][0]                    \n",
            "__________________________________________________________________________________________________\n",
            "bidirectional (Bidirectional)   (32, None, 1024)     6295552     lambda[0][0]                     \n",
            "__________________________________________________________________________________________________\n",
            "bidirectional_1 (Bidirectional) (32, None, 1024)     6295552     bidirectional[0][0]              \n",
            "__________________________________________________________________________________________________\n",
            "add (Add)                       (32, None, 1024)     0           bidirectional[0][0]              \n",
            "                                                                 bidirectional_1[0][0]            \n",
            "__________________________________________________________________________________________________\n",
            "time_distributed (TimeDistribut (None, None, 17)     17425       add[0][0]                        \n",
            "==================================================================================================\n",
            "Total params: 12,608,529\n",
            "Trainable params: 12,608,529\n",
            "Non-trainable params: 0\n",
            "__________________________________________________________________________________________________\n"
          ]
        }
      ]
    },
    {
      "cell_type": "code",
      "source": [
        "history = model.fit(\n",
        "    np.array(X_tr), y_tr, \n",
        "    validation_data=(np.array(X_val), y_val),\n",
        "    batch_size=batch_size, \n",
        "    epochs=3, \n",
        "    verbose=1,\n",
        ")"
      ],
      "metadata": {
        "id": "Ic4elu9uZVxO",
        "colab": {
          "base_uri": "https://localhost:8080/"
        },
        "outputId": "269446fe-4651-4e87-a90a-6aeaa47903a8"
      },
      "execution_count": 30,
      "outputs": [
        {
          "output_type": "stream",
          "name": "stdout",
          "text": [
            "Train on 38816 samples, validate on 4320 samples\n",
            "Epoch 1/3\n",
            "38816/38816 [==============================] - 594s 15ms/sample - loss: 0.0614 - acc: 0.9820 - val_loss: 0.0458 - val_acc: 0.9857\n",
            "Epoch 2/3\n",
            "38816/38816 [==============================] - 590s 15ms/sample - loss: 0.0404 - acc: 0.9870 - val_loss: 0.0418 - val_acc: 0.9867\n",
            "Epoch 3/3\n",
            "38816/38816 [==============================] - 591s 15ms/sample - loss: 0.0337 - acc: 0.9887 - val_loss: 0.0414 - val_acc: 0.9868\n"
          ]
        }
      ]
    },
    {
      "cell_type": "code",
      "source": [
        "plt.plot(history.history[\"acc\"])\n",
        "plt.plot(history.history[\"val_acc\"])\n",
        "plt.xlabel(\"epochs\")\n",
        "plt.ylabel(\"accuracy\")\n",
        "plt.legend([\"acc\", \"val_acc\"])\n",
        "plt.show()"
      ],
      "metadata": {
        "colab": {
          "base_uri": "https://localhost:8080/",
          "height": 285
        },
        "id": "nqQEhX8leu8i",
        "outputId": "8da08707-a9f8-49ee-dafd-279fbde3fb51"
      },
      "execution_count": 31,
      "outputs": [
        {
          "output_type": "display_data",
          "data": {
            "text/plain": [
              "<Figure size 432x288 with 1 Axes>"
            ],
            "image/png": "[encoded data removed]"
          },
          "metadata": {
            "needs_background": "light"
          }
        }
      ]
    },
    {
      "cell_type": "code",
      "source": [
        "plt.plot(history.history[\"loss\"])\n",
        "plt.plot(history.history[\"val_loss\"])\n",
        "plt.xlabel(\"epochs\")\n",
        "plt.ylabel(\"loss\")\n",
        "plt.legend([\"loss\", \"val_loss\"])\n",
        "plt.show()"
      ],
      "metadata": {
        "colab": {
          "base_uri": "https://localhost:8080/",
          "height": 282
        },
        "id": "JitufyJZe9_U",
        "outputId": "220b8cd4-9904-45c5-d724-883a1add9f9a"
      },
      "execution_count": 32,
      "outputs": [
        {
          "output_type": "display_data",
          "data": {
            "text/plain": [
              "<Figure size 432x288 with 1 Axes>"
            ],
            "image/png": "[encoded data removed]"
          },
          "metadata": {
            "needs_background": "light"
          }
        }
      ]
    },
    {
      "cell_type": "code",
      "source": [
        "test_data = np.array([[\"Apple is an organization\"]])\n"
      ],
      "metadata": {
        "id": "dU4HaFWjfKJk"
      },
      "execution_count": 34,
      "outputs": []
    },
    {
      "cell_type": "code",
      "source": [
        "def process_input(data):\n",
        "    new_data = []\n",
        "    for s in data:\n",
        "        new_sent = []\n",
        "        sent = s.split() # TODO: Change this to tokenized sequence\n",
        "        for i in range(max_len):\n",
        "            try:\n",
        "                new_sent.append(sent[i])\n",
        "            except:\n",
        "                new_sent.append(\"PADword\")\n",
        "        new_data.append(new_sent)\n",
        "    return np.array(new_data)"
      ],
      "metadata": {
        "id": "QXvUxq09fdyt"
      },
      "execution_count": 53,
      "outputs": []
    },
    {
      "cell_type": "code",
      "source": [
        "process_input(test_data).shape"
      ],
      "metadata": {
        "colab": {
          "base_uri": "https://localhost:8080/"
        },
        "id": "P5HCAmiagtyt",
        "outputId": "25da6fcb-e62a-4bcb-b027-624375d2f73f"
      },
      "execution_count": 54,
      "outputs": [
        {
          "output_type": "execute_result",
          "data": {
            "text/plain": [
              "(1, 50)"
            ]
          },
          "metadata": {},
          "execution_count": 54
        }
      ]
    },
    {
      "cell_type": "code",
      "source": [
        "model.predict([X_val])"
      ],
      "metadata": {
        "colab": {
          "base_uri": "https://localhost:8080/"
        },
        "id": "9KFSh93ChQS0",
        "outputId": "102020c8-d69f-41ce-b3c5-87bd95684488"
      },
      "execution_count": 64,
      "outputs": [
        {
          "output_type": "execute_result",
          "data": {
            "text/plain": [
              "array([[[9.86612122e-07, 1.32254650e-06, 1.00252228e-05, ...,\n",
              "         1.56387529e-07, 4.51906402e-07, 2.93779152e-07],\n",
              "        [5.73364203e-04, 1.34196680e-03, 2.93720722e-01, ...,\n",
              "         7.01801036e-06, 4.30796490e-06, 1.44681966e-04],\n",
              "        [7.75552180e-04, 7.31733162e-05, 2.22189905e-04, ...,\n",
              "         1.03827017e-06, 5.46407250e-07, 3.16049627e-05],\n",
              "        ...,\n",
              "        [1.60326117e-08, 1.19040671e-08, 1.50302810e-08, ...,\n",
              "         4.45796511e-10, 1.64946918e-08, 5.88712967e-10],\n",
              "        [2.27918040e-08, 1.79269275e-08, 2.33728716e-08, ...,\n",
              "         7.16017856e-10, 3.37773258e-08, 7.76603226e-10],\n",
              "        [5.27811856e-08, 5.98923648e-08, 4.62998635e-08, ...,\n",
              "         1.67518754e-09, 9.30429067e-08, 2.23568342e-09]],\n",
              "\n",
              "       [[8.09391713e-05, 2.21447961e-04, 6.37858000e-04, ...,\n",
              "         4.42635564e-06, 1.78481678e-05, 5.20158610e-05],\n",
              "        [1.37705274e-06, 2.88799602e-05, 1.36740539e-06, ...,\n",
              "         2.34875259e-07, 9.14195311e-07, 9.91008073e-06],\n",
              "        [4.74288449e-08, 9.51257505e-07, 2.22474895e-07, ...,\n",
              "         9.88733362e-09, 1.11304040e-07, 5.01274087e-07],\n",
              "        ...,\n",
              "        [1.57418967e-08, 1.27333530e-08, 1.29807081e-08, ...,\n",
              "         4.41602310e-10, 1.32574733e-08, 6.57813581e-10],\n",
              "        [2.17970122e-08, 1.84829787e-08, 2.10279740e-08, ...,\n",
              "         6.97330749e-10, 2.66414908e-08, 8.12277412e-10],\n",
              "        [5.05738171e-08, 5.90158002e-08, 4.43180461e-08, ...,\n",
              "         1.66464487e-09, 7.43315312e-08, 2.27423236e-09]],\n",
              "\n",
              "       [[4.51948921e-07, 3.15625743e-06, 1.37126995e-06, ...,\n",
              "         5.08651112e-08, 2.18629111e-07, 5.43255453e-07],\n",
              "        [1.64856874e-06, 1.97671998e-05, 9.20352250e-06, ...,\n",
              "         1.92984857e-07, 1.63110815e-06, 4.35057973e-06],\n",
              "        [2.97978744e-08, 5.36593745e-07, 1.17225042e-07, ...,\n",
              "         7.50124673e-09, 4.89981247e-08, 6.30948250e-07],\n",
              "        ...,\n",
              "        [1.38548124e-08, 1.15600649e-08, 1.46091397e-08, ...,\n",
              "         3.67718467e-10, 1.33416407e-08, 5.87979054e-10],\n",
              "        [1.93560332e-08, 1.76163084e-08, 2.27354899e-08, ...,\n",
              "         6.06564854e-10, 2.82339645e-08, 7.90452037e-10],\n",
              "        [4.45860522e-08, 5.83038826e-08, 4.47225830e-08, ...,\n",
              "         1.49781532e-09, 8.12439112e-08, 2.33273356e-09]],\n",
              "\n",
              "       ...,\n",
              "\n",
              "       [[1.41844444e-03, 2.61029112e-03, 2.07155079e-01, ...,\n",
              "         5.64384427e-05, 5.23831637e-04, 2.87015398e-04],\n",
              "        [3.16640444e-06, 7.56245163e-06, 4.85442843e-06, ...,\n",
              "         2.81770468e-07, 6.49238473e-07, 2.62301432e-06],\n",
              "        [4.70408992e-08, 1.97586061e-07, 7.86017608e-07, ...,\n",
              "         8.30313240e-09, 1.55552939e-07, 1.10977147e-07],\n",
              "        ...,\n",
              "        [1.64588663e-08, 1.17092114e-08, 1.69150898e-08, ...,\n",
              "         3.58921504e-10, 1.30595295e-08, 6.73029299e-10],\n",
              "        [2.34877255e-08, 1.73090875e-08, 2.64570144e-08, ...,\n",
              "         6.11854123e-10, 2.87739219e-08, 9.00018504e-10],\n",
              "        [5.44909255e-08, 5.72083678e-08, 5.24365049e-08, ...,\n",
              "         1.51469082e-09, 7.87573740e-08, 2.57373700e-09]],\n",
              "\n",
              "       [[3.29381524e-04, 1.45989365e-03, 2.00017542e-03, ...,\n",
              "         8.67685958e-05, 1.51599685e-04, 3.43307387e-04],\n",
              "        [2.06667323e-06, 7.62732554e-07, 6.12483120e-07, ...,\n",
              "         5.88912243e-08, 1.35281411e-07, 4.38119969e-07],\n",
              "        [2.97752479e-07, 4.67852686e-07, 3.68538667e-06, ...,\n",
              "         9.96838523e-09, 7.72255930e-07, 5.02225923e-08],\n",
              "        ...,\n",
              "        [1.62356830e-08, 1.30237598e-08, 1.71227725e-08, ...,\n",
              "         3.96955135e-10, 1.57504871e-08, 6.07423889e-10],\n",
              "        [2.37245104e-08, 1.97568557e-08, 2.75304171e-08, ...,\n",
              "         6.89382718e-10, 3.46532048e-08, 8.39477710e-10],\n",
              "        [5.62529401e-08, 6.70653861e-08, 5.49681864e-08, ...,\n",
              "         1.73546588e-09, 9.60147162e-08, 2.49488941e-09]],\n",
              "\n",
              "       [[5.07666016e-07, 1.40754742e-06, 3.58334273e-06, ...,\n",
              "         5.77276573e-08, 2.59612335e-07, 3.15254937e-07],\n",
              "        [2.44047578e-06, 1.30397693e-05, 4.19277821e-05, ...,\n",
              "         3.89531380e-07, 3.00028387e-05, 2.00719137e-06],\n",
              "        [3.99259534e-06, 1.49375919e-04, 3.27175403e-05, ...,\n",
              "         1.13077681e-06, 6.81516269e-07, 1.88680951e-05],\n",
              "        ...,\n",
              "        [1.91012877e-08, 1.18187984e-08, 1.63691709e-08, ...,\n",
              "         6.06744210e-10, 1.95459080e-08, 6.62957744e-10],\n",
              "        [2.62663438e-08, 1.72941022e-08, 2.45688589e-08, ...,\n",
              "         9.47296463e-10, 3.83348429e-08, 8.18676127e-10],\n",
              "        [5.63759137e-08, 5.75196317e-08, 4.46937491e-08, ...,\n",
              "         2.06856821e-09, 1.00063296e-07, 2.30354269e-09]]], dtype=float32)"
            ]
          },
          "metadata": {},
          "execution_count": 64
        }
      ]
    },
    {
      "cell_type": "code",
      "source": [
        "X_te = X_te[:149*batch_size]"
      ],
      "metadata": {
        "id": "SJBE91pKijkg"
      },
      "execution_count": 65,
      "outputs": []
    },
    {
      "cell_type": "code",
      "source": [
        "X_te = np.array(X_te)"
      ],
      "metadata": {
        "id": "WCAX1XVkizeP"
      },
      "execution_count": 68,
      "outputs": []
    },
    {
      "cell_type": "code",
      "source": [
        "X_te.shape"
      ],
      "metadata": {
        "colab": {
          "base_uri": "https://localhost:8080/"
        },
        "id": "_2ycm-soi0Qp",
        "outputId": "3eb4a94d-4d09-4bfb-a897-9128b233dd84"
      },
      "execution_count": 69,
      "outputs": [
        {
          "output_type": "execute_result",
          "data": {
            "text/plain": [
              "(4768, 50)"
            ]
          },
          "metadata": {},
          "execution_count": 69
        }
      ]
    },
    {
      "cell_type": "code",
      "source": [
        "test_pred = model.predict(X_te, verbose=1)"
      ],
      "metadata": {
        "colab": {
          "base_uri": "https://localhost:8080/"
        },
        "id": "UQ1RkBEoi62W",
        "outputId": "e5a74e93-f765-4792-c352-0c1713621639"
      },
      "execution_count": 70,
      "outputs": [
        {
          "output_type": "stream",
          "name": "stdout",
          "text": [
            "4768/4768 [==============================] - 43s 9ms/sample\n"
          ]
        }
      ]
    },
    {
      "cell_type": "code",
      "source": [
        "idx2tag = {i:tag for tag, i in tags2index.items()}"
      ],
      "metadata": {
        "id": "lpJSKmiJjDxv"
      },
      "execution_count": 71,
      "outputs": []
    },
    {
      "cell_type": "code",
      "source": [
        "idx2tag"
      ],
      "metadata": {
        "colab": {
          "base_uri": "https://localhost:8080/"
        },
        "id": "SHMPpl-EjXe3",
        "outputId": "4663201f-33be-4385-b00d-85365dda1ecc"
      },
      "execution_count": 72,
      "outputs": [
        {
          "output_type": "execute_result",
          "data": {
            "text/plain": [
              "{0: 'I-per',\n",
              " 1: 'B-tim',\n",
              " 2: 'B-per',\n",
              " 3: 'B-org',\n",
              " 4: 'B-geo',\n",
              " 5: 'B-gpe',\n",
              " 6: 'B-nat',\n",
              " 7: 'I-nat',\n",
              " 8: 'O',\n",
              " 9: 'I-geo',\n",
              " 10: 'I-gpe',\n",
              " 11: 'I-art',\n",
              " 12: 'B-eve',\n",
              " 13: 'I-org',\n",
              " 14: 'I-eve',\n",
              " 15: 'B-art',\n",
              " 16: 'I-tim'}"
            ]
          },
          "metadata": {},
          "execution_count": 72
        }
      ]
    },
    {
      "cell_type": "code",
      "source": [
        "test_pred.shape"
      ],
      "metadata": {
        "colab": {
          "base_uri": "https://localhost:8080/"
        },
        "id": "5ZmVfKuJjYRc",
        "outputId": "c3bc3e77-066a-4535-f97f-c51a3c6198eb"
      },
      "execution_count": 74,
      "outputs": [
        {
          "output_type": "execute_result",
          "data": {
            "text/plain": [
              "(4768, 50, 17)"
            ]
          },
          "metadata": {},
          "execution_count": 74
        }
      ]
    },
    {
      "cell_type": "code",
      "source": [
        "def pred2label(preds):\n",
        "    \n",
        "    pass"
      ],
      "metadata": {
        "id": "zZodKNBWjZxu"
      },
      "execution_count": null,
      "outputs": []
    },
    {
      "cell_type": "code",
      "source": [
        "model.save(\"ner.h5\")"
      ],
      "metadata": {
        "id": "wkiNjAiSjjsB"
      },
      "execution_count": 75,
      "outputs": []
    },
    {
      "cell_type": "code",
      "source": [
        "np.argmax(test_pred[0])"
      ],
      "metadata": {
        "colab": {
          "base_uri": "https://localhost:8080/"
        },
        "id": "qwcaz-KRjl0s",
        "outputId": "5edaf525-8603-4048-cc78-b80cf49a4f83"
      },
      "execution_count": 87,
      "outputs": [
        {
          "output_type": "execute_result",
          "data": {
            "text/plain": [
              "450"
            ]
          },
          "metadata": {},
          "execution_count": 87
        }
      ]
    },
    {
      "cell_type": "code",
      "source": [
        "out = []\n",
        "for pred in test_pred:\n",
        "    out_i = []\n",
        "    for p in pred:\n",
        "        p_i = np.argmax(p)\n",
        "        out_i.append(idx2tag[p_i].replace(\"PADword\", \"O\"))\n",
        "        \n",
        "    out.append(out_i)"
      ],
      "metadata": {
        "id": "xypa4fTHjxc2"
      },
      "execution_count": 93,
      "outputs": []
    },
    {
      "cell_type": "code",
      "source": [
        "print(f\"Input {X_te[0]}\")\n",
        "print(f\"Labels {out[0]}\")"
      ],
      "metadata": {
        "colab": {
          "base_uri": "https://localhost:8080/"
        },
        "id": "kZH0sKWkklqP",
        "outputId": "df644a15-c0d4-4aa0-8e4f-21b39ee86a43"
      },
      "execution_count": 95,
      "outputs": [
        {
          "output_type": "stream",
          "name": "stdout",
          "text": [
            "Input ['They' 'say' 'the' 'documents' 'were' 'found' 'in' 'the' 'computer' 'of'\n",
            " 'FARC' 'leader' 'Raul' 'Reyes' 'during' 'a' 'cross-border' 'raid' 'in'\n",
            " 'Ecuador' 'last' 'month' '.' 'PADword' 'PADword' 'PADword' 'PADword'\n",
            " 'PADword' 'PADword' 'PADword' 'PADword' 'PADword' 'PADword' 'PADword'\n",
            " 'PADword' 'PADword' 'PADword' 'PADword' 'PADword' 'PADword' 'PADword'\n",
            " 'PADword' 'PADword' 'PADword' 'PADword' 'PADword' 'PADword' 'PADword'\n",
            " 'PADword' 'PADword']\n",
            "Labels ['O', 'O', 'O', 'O', 'O', 'O', 'O', 'O', 'O', 'O', 'B-org', 'O', 'B-per', 'I-per', 'O', 'O', 'O', 'O', 'O', 'B-geo', 'O', 'O', 'O', 'O', 'O', 'O', 'O', 'O', 'O', 'O', 'O', 'O', 'O', 'O', 'O', 'O', 'O', 'O', 'O', 'O', 'O', 'O', 'O', 'O', 'O', 'O', 'O', 'O', 'O', 'O']\n"
          ]
        }
      ]
    },
    {
      "cell_type": "code",
      "source": [],
      "metadata": {
        "id": "vjRvTMw0lTVn"
      },
      "execution_count": null,
      "outputs": []
    }
  ]
}